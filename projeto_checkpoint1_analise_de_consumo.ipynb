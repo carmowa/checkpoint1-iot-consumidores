{
 "cells": [
  {
   "cell_type": "markdown",
   "id": "18d6cc44",
   "metadata": {},
   "source": [
    "# Projeto de Análise - Household Power Consumption"
   ]
  },
  {
   "cell_type": "code",
   "execution_count": null,
   "id": "55493305",
   "metadata": {},
   "outputs": [],
   "source": [
    "\n",
    "import pandas as pd\n",
    "import matplotlib.pyplot as plt\n",
    "import seaborn as sns\n"
   ]
  },
  {
   "cell_type": "markdown",
   "id": "ddda0450",
   "metadata": {},
   "source": [
    "## Questão 1: Carregar dataset e exibir as 10 primeiras linhas"
   ]
  },
  {
   "cell_type": "code",
   "execution_count": null,
   "id": "84512210",
   "metadata": {},
   "outputs": [],
   "source": [
    "\n",
    "df = pd.read_csv(\n",
    "    \"household_power_consumption.txt\",\n",
    "    sep=\";\",\n",
    "    decimal=\".\",\n",
    "    na_values=\"?\"\n",
    ")\n",
    "df.head(10)\n"
   ]
  },
  {
   "cell_type": "markdown",
   "id": "ae9a31c6",
   "metadata": {},
   "source": [
    "## Questão 2: Diferença entre Global_active_power e Global_reactive_power"
   ]
  },
  {
   "cell_type": "markdown",
   "id": "47cfd93a",
   "metadata": {},
   "source": [
    "\n",
    "- **Global_active_power**: potência ativa consumida pela residência, medida em kW, que realmente realiza trabalho útil (ex: funcionamento de aparelhos).\n",
    "- **Global_reactive_power**: potência reativa, medida em kW, que não realiza trabalho útil mas é necessária para manter os campos elétricos/magnéticos nos equipamentos.\n"
   ]
  },
  {
   "cell_type": "markdown",
   "id": "65f7e466",
   "metadata": {},
   "source": [
    "## Questão 3: Valores ausentes"
   ]
  },
  {
   "cell_type": "code",
   "execution_count": null,
   "id": "c87c7e21",
   "metadata": {},
   "outputs": [],
   "source": [
    "\n",
    "missing = df.isna().sum()\n",
    "print(missing)\n",
    "print(\"Total de valores ausentes:\", missing.sum())\n"
   ]
  },
  {
   "cell_type": "markdown",
   "id": "ad1e4435",
   "metadata": {},
   "source": [
    "## Questão 4: Converter Date para datetime e criar coluna dia da semana"
   ]
  },
  {
   "cell_type": "code",
   "execution_count": null,
   "id": "d70d0bfd",
   "metadata": {},
   "outputs": [],
   "source": [
    "\n",
    "df['Date'] = pd.to_datetime(df['Date'], format=\"%d/%m/%Y\")\n",
    "df['DayOfWeek'] = df['Date'].dt.day_name()\n",
    "df[['Date','DayOfWeek']].head()\n"
   ]
  },
  {
   "cell_type": "markdown",
   "id": "bca8893a",
   "metadata": {},
   "source": [
    "## Questão 5: Filtrar ano 2007 e calcular média de consumo diário de Global_active_power"
   ]
  },
  {
   "cell_type": "code",
   "execution_count": null,
   "id": "7c7f06ca",
   "metadata": {},
   "outputs": [],
   "source": [
    "\n",
    "df_2007 = df[df['Date'].dt.year == 2007]\n",
    "daily_avg_2007 = df_2007.groupby('Date')['Global_active_power'].mean()\n",
    "daily_avg_2007.head()\n"
   ]
  },
  {
   "cell_type": "markdown",
   "id": "36cd2890",
   "metadata": {},
   "source": [
    "## Questão 6: Gráfico de linha de Global_active_power em um único dia"
   ]
  },
  {
   "cell_type": "code",
   "execution_count": null,
   "id": "58a9373e",
   "metadata": {},
   "outputs": [],
   "source": [
    "\n",
    "day_sample = df_2007[df_2007['Date'] == '2007-01-01']\n",
    "plt.figure(figsize=(12,5))\n",
    "plt.plot(day_sample['Global_active_power'].reset_index(drop=True))\n",
    "plt.title(\"Variação do Global Active Power em 2007-01-01\")\n",
    "plt.xlabel(\"Minutos do dia\")\n",
    "plt.ylabel(\"Potência ativa (kW)\")\n",
    "plt.show()\n"
   ]
  },
  {
   "cell_type": "markdown",
   "id": "f92187d9",
   "metadata": {},
   "source": [
    "## Questão 7: Histograma de Voltage"
   ]
  },
  {
   "cell_type": "code",
   "execution_count": null,
   "id": "346e181c",
   "metadata": {},
   "outputs": [],
   "source": [
    "\n",
    "plt.figure(figsize=(8,5))\n",
    "plt.hist(df['Voltage'].dropna(), bins=50, edgecolor='black')\n",
    "plt.title(\"Distribuição da variável Voltage\")\n",
    "plt.xlabel(\"Voltagem (V)\")\n",
    "plt.ylabel(\"Frequência\")\n",
    "plt.show()\n"
   ]
  },
  {
   "cell_type": "markdown",
   "id": "eff98c0b",
   "metadata": {},
   "source": [
    "**Observação:** A distribuição é aproximadamente normal, centrada em torno de 240 volts, com pouca variação."
   ]
  },
  {
   "cell_type": "markdown",
   "id": "84778519",
   "metadata": {},
   "source": [
    "## Questão 8: Consumo médio por mês em todo o período"
   ]
  },
  {
   "cell_type": "code",
   "execution_count": null,
   "id": "3c52bc37",
   "metadata": {},
   "outputs": [],
   "source": [
    "\n",
    "df['YearMonth'] = df['Date'].dt.to_period('M')\n",
    "monthly_avg = df.groupby('YearMonth')['Global_active_power'].mean()\n",
    "monthly_avg.head()\n"
   ]
  },
  {
   "cell_type": "markdown",
   "id": "00e161eb",
   "metadata": {},
   "source": [
    "## Questão 9: Dia com maior consumo de energia ativa global"
   ]
  },
  {
   "cell_type": "code",
   "execution_count": null,
   "id": "2da88cfd",
   "metadata": {},
   "outputs": [],
   "source": [
    "\n",
    "daily_sum = df.groupby('Date')['Global_active_power'].sum()\n",
    "max_day = daily_sum.idxmax()\n",
    "max_day, daily_sum.max()\n"
   ]
  },
  {
   "cell_type": "markdown",
   "id": "1760d895",
   "metadata": {},
   "source": [
    "## Questão 10: Comparação consumo médio em dias de semana vs finais de semana"
   ]
  },
  {
   "cell_type": "code",
   "execution_count": null,
   "id": "fd4c19dc",
   "metadata": {},
   "outputs": [],
   "source": [
    "\n",
    "df['IsWeekend'] = df['DayOfWeek'].isin(['Saturday','Sunday'])\n",
    "weekday_avg = df.groupby('IsWeekend')['Global_active_power'].mean()\n",
    "weekday_avg\n"
   ]
  },
  {
   "cell_type": "code",
   "execution_count": null,
   "id": "8d5fc255",
   "metadata": {},
   "outputs": [],
   "source": [
    "\n",
    "labels = ['Dias de semana','Finais de semana']\n",
    "plt.bar(labels, weekday_avg)\n",
    "plt.title(\"Consumo médio Global Active Power - Semana vs Fim de semana\")\n",
    "plt.ylabel(\"Potência ativa (kW)\")\n",
    "plt.show()\n"
   ]
  }
 ],
 "metadata": {
  "language_info": {
   "name": "python"
  }
 },
 "nbformat": 4,
 "nbformat_minor": 5
}
