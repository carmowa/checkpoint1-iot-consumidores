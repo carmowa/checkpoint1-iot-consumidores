{
 "cells": [
  {
   "cell_type": "markdown",
   "id": "18d6cc44",
   "metadata": {},
   "source": [
    "# Projeto de Análise - Household Power Consumption"
   ]
  },
  {
   "cell_type": "code",
   "execution_count": null,
   "id": "55493305",
   "metadata": {},
   "outputs": [],
   "source": [
    "\n",
    "import pandas as pd\n",
    "import matplotlib.pyplot as plt\n",
    "import seaborn as sns\n"
   ]
  },
  {
   "cell_type": "markdown",
   "id": "ddda0450",
   "metadata": {},
   "source": [
    "## Questão 1: Carregar dataset e exibir as 10 primeiras linhas"
   ]
  },
  {
   "cell_type": "code",
   "execution_count": null,
   "id": "84512210",
   "metadata": {},
   "outputs": [],
   "source": [
    "\n",
    "df = pd.read_csv(\n",
    "    \"household_power_consumption.txt\",\n",
    "    sep=\";\",\n",
    "    decimal=\".\",\n",
    "    na_values=\"?\"\n",
    ")\n",
    "df.head(10)\n"
   ]
  },
  {
   "cell_type": "markdown",
   "id": "ae9a31c6",
   "metadata": {},
   "source": [
    "## Questão 2: Diferença entre Global_active_power e Global_reactive_power"
   ]
  },
  {
   "cell_type": "markdown",
   "id": "47cfd93a",
   "metadata": {},
   "source": [
    "\n",
    "- **Global_active_power**: potência ativa consumida pela residência, medida em kW, que realmente realiza trabalho útil (ex: funcionamento de aparelhos).\n",
    "- **Global_reactive_power**: potência reativa, medida em kW, que não realiza trabalho útil mas é necessária para manter os campos elétricos/magnéticos nos equipamentos.\n"
   ]
  },
  {
   "cell_type": "markdown",
   "id": "65f7e466",
   "metadata": {},
   "source": [
    "## Questão 3: Valores ausentes"
   ]
  },
  {
   "cell_type": "code",
   "execution_count": null,
   "id": "c87c7e21",
   "metadata": {},
   "outputs": [],
   "source": [
    "\n",
    "missing = df.isna().sum()\n",
    "print(missing)\n",
    "print(\"Total de valores ausentes:\", missing.sum())\n"
   ]
  },
  {
   "cell_type": "markdown",
   "id": "ad1e4435",
   "metadata": {},
   "source": [
    "## Questão 4: Converter Date para datetime e criar coluna dia da semana"
   ]
  },
  {
   "cell_type": "code",
   "execution_count": null,
   "id": "d70d0bfd",
   "metadata": {},
   "outputs": [],
   "source": [
    "\n",
    "df['Date'] = pd.to_datetime(df['Date'], format=\"%d/%m/%Y\")\n",
    "df['DayOfWeek'] = df['Date'].dt.day_name()\n",
    "df[['Date','DayOfWeek']].head()\n"
   ]
  },
  {
   "cell_type": "markdown",
   "id": "bca8893a",
   "metadata": {},
   "source": [
    "## Questão 5: Filtrar ano 2007 e calcular média de consumo diário de Global_active_power"
   ]
  },
  {
   "cell_type": "code",
   "execution_count": null,
   "id": "7c7f06ca",
   "metadata": {},
   "outputs": [],
   "source": [
    "\n",
    "df_2007 = df[df['Date'].dt.year == 2007]\n",
    "daily_avg_2007 = df_2007.groupby('Date')['Global_active_power'].mean()\n",
    "daily_avg_2007.head()\n"
   ]
  },
  {
   "cell_type": "markdown",
   "id": "36cd2890",
   "metadata": {},
   "source": [
    "## Questão 6: Gráfico de linha de Global_active_power em um único dia"
   ]
  },
  {
   "cell_type": "code",
   "execution_count": null,
   "id": "58a9373e",
   "metadata": {},
   "outputs": [],
   "source": [
    "\n",
    "day_sample = df_2007[df_2007['Date'] == '2007-01-01']\n",
    "plt.figure(figsize=(12,5))\n",
    "plt.plot(day_sample['Global_active_power'].reset_index(drop=True))\n",
    "plt.title(\"Variação do Global Active Power em 2007-01-01\")\n",
    "plt.xlabel(\"Minutos do dia\")\n",
    "plt.ylabel(\"Potência ativa (kW)\")\n",
    "plt.show()\n"
   ]
  },
  {
   "cell_type": "markdown",
   "id": "f92187d9",
   "metadata": {},
   "source": [
    "## Questão 7: Histograma de Voltage"
   ]
  },
  {
   "cell_type": "code",
   "execution_count": null,
   "id": "346e181c",
   "metadata": {},
   "outputs": [],
   "source": [
    "\n",
    "plt.figure(figsize=(8,5))\n",
    "plt.hist(df['Voltage'].dropna(), bins=50, edgecolor='black')\n",
    "plt.title(\"Distribuição da variável Voltage\")\n",
    "plt.xlabel(\"Voltagem (V)\")\n",
    "plt.ylabel(\"Frequência\")\n",
    "plt.show()\n"
   ]
  },
  {
   "cell_type": "markdown",
   "id": "eff98c0b",
   "metadata": {},
   "source": [
    "**Observação:** A distribuição é aproximadamente normal, centrada em torno de 240 volts, com pouca variação."
   ]
  },
  {
   "cell_type": "markdown",
   "id": "84778519",
   "metadata": {},
   "source": [
    "## Questão 8: Consumo médio por mês em todo o período"
   ]
  },
  {
   "cell_type": "code",
   "execution_count": null,
   "id": "3c52bc37",
   "metadata": {},
   "outputs": [],
   "source": [
    "\n",
    "df['YearMonth'] = df['Date'].dt.to_period('M')\n",
    "monthly_avg = df.groupby('YearMonth')['Global_active_power'].mean()\n",
    "monthly_avg.head()\n"
   ]
  },
  {
   "cell_type": "markdown",
   "id": "00e161eb",
   "metadata": {},
   "source": [
    "## Questão 9: Dia com maior consumo de energia ativa global"
   ]
  },
  {
   "cell_type": "code",
   "execution_count": null,
   "id": "2da88cfd",
   "metadata": {},
   "outputs": [],
   "source": [
    "\n",
    "daily_sum = df.groupby('Date')['Global_active_power'].sum()\n",
    "max_day = daily_sum.idxmax()\n",
    "max_day, daily_sum.max()\n"
   ]
  },
  {
   "cell_type": "markdown",
   "id": "1760d895",
   "metadata": {},
   "source": [
    "## Questão 10: Comparação consumo médio em dias de semana vs finais de semana"
   ]
  },
  {
   "cell_type": "code",
   "execution_count": null,
   "id": "fd4c19dc",
   "metadata": {},
   "outputs": [],
   "source": [
    "\n",
    "df['IsWeekend'] = df['DayOfWeek'].isin(['Saturday','Sunday'])\n",
    "weekday_avg = df.groupby('IsWeekend')['Global_active_power'].mean()\n",
    "weekday_avg\n"
   ]
  },
  {
   "cell_type": "code",
   "execution_count": null,
   "id": "8d5fc255",
   "metadata": {},
   "outputs": [],
   "source": [
    "\n",
    "labels = ['Dias de semana','Finais de semana']\n",
    "plt.bar(labels, weekday_avg)\n",
    "plt.title(\"Consumo médio Global Active Power - Semana vs Fim de semana\")\n",
    "plt.ylabel(\"Potência ativa (kW)\")\n",
    "plt.show()\n"
   ]
  }
 ],
 "metadata": {
  "language_info": {
   "name": "python"
  }
 },
 "nbformat": 4,
 "nbformat_minor": 5
}

{
 "cells": [
  {
   "cell_type": "markdown",
   "id": "q21",
   "metadata": {},
   "source": [
    "## Questão 21: Séries temporais por hora"
   ]
  },
  {
   "cell_type": "code",
   "id": "q21-code",
   "metadata": {},
   "outputs": [],
   "source": [
    "df['DateTime'] = pd.to_datetime(df['Date'].astype(str) + ' ' + df['Time'])\n",
    "df = df.set_index('DateTime')\n",
    "\n",
    "# Reamostrar por hora\n",
    "hourly_avg = df['Global_active_power'].resample('H').mean()\n",
    "hourly_mean_by_hour = hourly_avg.groupby(hourly_avg.index.hour).mean()\n",
    "\n",
    "hourly_mean_by_hour.plot(kind='bar', figsize=(10,5))\n",
    "plt.title(\"Média de consumo horário - Global Active Power\")\n",
    "plt.xlabel(\"Hora do dia\")\n",
    "plt.ylabel(\"Potência ativa (kW)\")\n",
    "plt.show()"
   ]
  },
  {
   "cell_type": "markdown",
   "id": "q22",
   "metadata": {},
   "source": [
    "## Questão 22: Autocorrelação do consumo"
   ]
  },
  {
   "cell_type": "code",
   "id": "q22-code",
   "metadata": {},
   "outputs": [],
   "source": [
    "from pandas.plotting import autocorrelation_plot\n",
    "\n",
    "plt.figure(figsize=(10,5))\n",
    "autocorrelation_plot(hourly_avg.dropna())\n",
    "plt.title(\"Autocorrelação - Global Active Power\")\n",
    "plt.show()\n",
    "\n",
    "print(\"Autocorrelação 1h:\", hourly_avg.autocorr(lag=1))\n",
    "print(\"Autocorrelação 24h:\", hourly_avg.autocorr(lag=24))\n",
    "print(\"Autocorrelação 48h:\", hourly_avg.autocorr(lag=48))"
   ]
  },
  {
   "cell_type": "markdown",
   "id": "q23",
   "metadata": {},
   "source": [
    "## Questão 23: Redução de dimensionalidade com PCA"
   ]
  },
  {
   "cell_type": "code",
   "id": "q23-code",
   "metadata": {},
   "outputs": [],
   "source": [
    "from sklearn.decomposition import PCA\n",
    "from sklearn.preprocessing import StandardScaler\n",
    "\n",
    "features = ['Global_active_power', 'Global_reactive_power', 'Voltage', 'Global_intensity']\n",
    "df_pca = df[features].dropna()\n",
    "\n",
    "scaled = StandardScaler().fit_transform(df_pca)\n",
    "pca = PCA(n_components=2)\n",
    "components = pca.fit_transform(scaled)\n",
    "\n",
    "print(\"Variância explicada:\", pca.explained_variance_ratio_)"
   ]
  },
  {
   "cell_type": "markdown",
   "id": "q24",
   "metadata": {},
   "source": [
    "## Questão 24: Visualização de clusters no espaço PCA"
   ]
  },
  {
   "cell_type": "code",
   "id": "q24-code",
   "metadata": {},
   "outputs": [],
   "source": [
    "from sklearn.cluster import KMeans\n",
    "\n",
    "kmeans = KMeans(n_clusters=3, random_state=42)\n",
    "clusters = kmeans.fit_predict(components)\n",
    "\n",
    "plt.figure(figsize=(8,6))\n",
    "plt.scatter(components[:,0], components[:,1], c=clusters, cmap='viridis', alpha=0.5)\n",
    "plt.title(\"Clusters no espaço PCA\")\n",
    "plt.xlabel(\"Componente Principal 1\")\n",
    "plt.ylabel(\"Componente Principal 2\")\n",
    "plt.show()"
   ]
  },
  {
   "cell_type": "markdown",
   "id": "q25",
   "metadata": {},
   "source": [
    "## Questão 25: Regressão polinomial vs linear"
   ]
  },
  {
   "cell_type": "code",
   "id": "q25-code",
   "metadata": {},
   "outputs": [],
   "source": [
    "from sklearn.linear_model import LinearRegression\n",
    "from sklearn.preprocessing import PolynomialFeatures\n",
    "from sklearn.metrics import mean_squared_error\n",
    "import numpy as np\n",
    "\n",
    "X = df[['Voltage']].dropna()\n",
    "y = df.loc[X.index, 'Global_active_power']\n",
    "\n",
    "# Linear\n",
    "lin_reg = LinearRegression().fit(X, y)\n",
    "y_pred_lin = lin_reg.predict(X)\n",
    "\n",
    "# Polinomial grau 2\n",
    "poly = PolynomialFeatures(degree=2)\n",
    "X_poly = poly.fit_transform(X)\n",
    "poly_reg = LinearRegression().fit(X_poly, y)\n",
    "y_pred_poly = poly_reg.predict(X_poly)\n",
    "\n",
    "print(\"RMSE Linear:\", mean_squared_error(y, y_pred_lin, squared=False))\n",
    "print(\"RMSE Polinomial:\", mean_squared_error(y, y_pred_poly, squared=False))\n",
    "\n",
    "plt.figure(figsize=(10,5))\n",
    "plt.scatter(X, y, alpha=0.2, label=\"Dados reais\")\n",
    "plt.plot(X, y_pred_lin, color=\"red\", label=\"Linear\")\n",
    "plt.scatter(X, y_pred_poly, color=\"green\", s=1, label=\"Polinomial (grau 2)\")\n",
    "plt.legend()\n",
    "plt.xlabel(\"Voltage\")\n",
    "plt.ylabel(\"Global Active Power\")\n",
    "plt.title(\"Regressão Linear vs Polinomial\")\n",
    "plt.show()"
   ]
  },
  {
   "cell_type": "markdown",
   "id": "q26",
   "metadata": {},
   "source": [
    "## Questão 26: Carregamento e inspeção inicial do dataset Appliances Energy Prediction"
   ]
  },
  {
   "cell_type": "code",
   "id": "q26-code",
   "metadata": {},
   "outputs": [],
   "source": [
    "df_appl = pd.read_csv(\"energydata_complete.csv\")\n",
    "print(df_appl.info())\n",
    "print(df_appl.describe())"
   ]
  },
  {
   "cell_type": "markdown",
   "id": "q27",
   "metadata": {},
   "source": [
    "## Questão 27: Distribuição do consumo (Appliances)"
   ]
  },
  {
   "cell_type": "code",
   "id": "q27-code",
   "metadata": {},
   "outputs": [],
   "source": [
    "plt.figure(figsize=(8,5))\n",
    "sns.histplot(df_appl['Appliances'], bins=50, kde=True)\n",
    "plt.title(\"Distribuição do consumo - Appliances\")\n",
    "plt.show()\n",
    "\n",
    "plt.figure(figsize=(12,5))\n",
    "plt.plot(df_appl['Appliances'].head(500))\n",
    "plt.title(\"Série temporal - Appliances (primeiros 500 registros)\")\n",
    "plt.show()"
   ]
  },
  {
   "cell_type": "markdown",
   "id": "q28",
   "metadata": {},
   "source": [
    "## Questão 28: Correlações com variáveis ambientais"
   ]
  },
  {
   "cell_type": "code",
   "id": "q28-code",
   "metadata": {},
   "outputs": [],
   "source": [
    "corr = df_appl.corr()['Appliances'].sort_values(ascending=False)\n",
    "print(corr.head(10))\n",
    "print(corr.tail(10))\n",
    "\n",
    "plt.figure(figsize=(10,6))\n",
    "sns.heatmap(df_appl[['Appliances','T1','RH_1','T_out','RH_out']].corr(), annot=True, cmap='coolwarm')\n",
    "plt.title(\"Correlação - Appliances vs variáveis ambientais\")\n",
    "plt.show()"
   ]
  },
  {
   "cell_type": "markdown",
   "id": "q29",
   "metadata": {},
   "source": [
    "## Questão 29: Normalização dos dados"
   ]
  },
  {
   "cell_type": "code",
   "id": "q29-code",
   "metadata": {},
   "outputs": [],
   "source": [
    "from sklearn.preprocessing import MinMaxScaler\n",
    "\n",
    "scaler = MinMaxScaler()\n",
    "numeric_cols = df_appl.select_dtypes(include=['float64','int64']).columns\n",
    "df_scaled = df_appl.copy()\n",
    "df_scaled[numeric_cols] = scaler.fit_transform(df_appl[numeric_cols])\n",
    "\n",
    "df_scaled.head()"
   ]
  },
  {
   "cell_type": "markdown",
   "id": "q30",
   "metadata": {},
   "source": [
    "## Questão 30: PCA no dataset Appliances Energy Prediction"
   ]
  },
  {
   "cell_type": "code",
   "id": "q30-code",
   "metadata": {},
   "outputs": [],
   "source": [
    "df_pca_app = df_scaled[numeric_cols].dropna()\n",
    "pca_app = PCA(n_components=2)\n",
    "components_app = pca_app.fit_transform(df_pca_app)\n",
    "\n",
    "print(\"Variância explicada:\", pca_app.explained_variance_ratio_)\n",
    "\n",
    "plt.figure(figsize=(8,6))\n",
    "plt.scatter(components_app[:,0], components_app[:,1], alpha=0.3)\n",
    "plt.title(\"PCA - Appliances Energy Prediction\")\n",
    "plt.xlabel(\"Componente 1\")\n",
    "plt.ylabel(\"Componente 2\")\n",
    "plt.show()"
   ]
  }
 ],
 "metadata": {
  "language_info": {
   "name": "python"
  }
 },
 "nbformat": 4,
 "nbformat_minor": 5
}

